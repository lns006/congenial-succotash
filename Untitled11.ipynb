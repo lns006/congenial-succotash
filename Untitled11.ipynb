{
  "nbformat": 4,
  "nbformat_minor": 0,
  "metadata": {
    "colab": {
      "provenance": [],
      "authorship_tag": "ABX9TyPxl2R9AmSGlQsWJcYJNEUj",
      "include_colab_link": true
    },
    "kernelspec": {
      "name": "python3",
      "display_name": "Python 3"
    },
    "language_info": {
      "name": "python"
    }
  },
  "cells": [
    {
      "cell_type": "markdown",
      "metadata": {
        "id": "view-in-github",
        "colab_type": "text"
      },
      "source": [
        "<a href=\"https://colab.research.google.com/github/lns006/congenial-succotash/blob/main/Untitled11.ipynb\" target=\"_parent\"><img src=\"https://colab.research.google.com/assets/colab-badge.svg\" alt=\"Open In Colab\"/></a>"
      ]
    },
    {
      "cell_type": "code",
      "execution_count": null,
      "metadata": {
        "colab": {
          "base_uri": "https://localhost:8080/"
        },
        "id": "lt0INj6OaqS8",
        "outputId": "e020137b-17fa-4a8e-aa1a-f298a6961291"
      },
      "outputs": [
        {
          "output_type": "stream",
          "name": "stdout",
          "text": [
            "Математическое ожидание: 3.054\n",
            "Дисперсия: 0.024084000000000005\n"
          ]
        }
      ],
      "source": [
        "import math\n",
        "import random\n",
        "def estimate_circle_area(A, B, R, X0, Y0, N):\n",
        "  rectangle_area = A * B\n",
        "  num_in_circle = 0\n",
        "  for _ in range(N):\n",
        "    x = X0 + (A * (random.random() - 0.5))\n",
        "    y = Y0 + (B * (random.random() - 0.5))\n",
        "\n",
        "    if (x - X0)**2 + (y - Y0)**2 <= R**2:\n",
        "      num_in_circle += 1\n",
        "  circle_area = (num_in_circle / N) * rectangle_area\n",
        "  return circle_area\n",
        "\n",
        "A = B = 10\n",
        "R = 1\n",
        "X0 = 5\n",
        "Y0 = 5\n",
        "N = 10000\n",
        "\n",
        "areas = []\n",
        "for _ in range(10):\n",
        "  areas.append(estimate_circle_area(A, B, R, X0, Y0, N))\n",
        "\n",
        "mean_area = sum(areas) / len(areas)\n",
        "\n",
        "variance = sum((area - mean_area)**2 for area in areas) / len(areas)\n",
        "\n",
        "print(\"Математическое ожидание:\", mean_area)\n",
        "print(\"Дисперсия:\", variance)\n"
      ]
    }
  ]
}
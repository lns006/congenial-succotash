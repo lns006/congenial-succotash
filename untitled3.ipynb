{
  "nbformat": 4,
  "nbformat_minor": 0,
  "metadata": {
    "colab": {
      "provenance": [],
      "authorship_tag": "ABX9TyPvBJXxuwpOcEwpRvKYvI4+",
      "include_colab_link": true
    },
    "kernelspec": {
      "name": "python3",
      "display_name": "Python 3"
    },
    "language_info": {
      "name": "python"
    }
  },
  "cells": [
    {
      "cell_type": "markdown",
      "metadata": {
        "id": "view-in-github",
        "colab_type": "text"
      },
      "source": [
        "<a href=\"https://colab.research.google.com/gist/lns006/7b780d9dda8e78b5a8ef771b702def0a/untitled3.ipynb\" target=\"_parent\"><img src=\"https://colab.research.google.com/assets/colab-badge.svg\" alt=\"Open In Colab\"/></a>"
      ]
    },
    {
      "cell_type": "code",
      "execution_count": null,
      "metadata": {
        "colab": {
          "base_uri": "https://localhost:8080/",
          "height": 418
        },
        "id": "j7GwrV-qkGoW",
        "outputId": "5df1c31b-a90f-46f1-8780-d81315a2e563"
      },
      "outputs": [
        {
          "output_type": "stream",
          "name": "stdout",
          "text": [
            "Удельная энергия связи для атома U-238: -6303.86842991109 MeV\n",
            "Масса атома U-238: 239.934482 atomic mass units\n",
            "Радиус атома U-238: 7.436585321689351 fm\n"
          ]
        },
        {
          "output_type": "error",
          "ename": "AttributeError",
          "evalue": "ignored",
          "traceback": [
            "\u001b[0;31m---------------------------------------------------------------------------\u001b[0m",
            "\u001b[0;31mAttributeError\u001b[0m                            Traceback (most recent call last)",
            "\u001b[0;32m<ipython-input-2-c8a53b154190>\u001b[0m in \u001b[0;36m<cell line: 66>\u001b[0;34m()\u001b[0m\n\u001b[1;32m     64\u001b[0m \u001b[0;34m\u001b[0m\u001b[0m\n\u001b[1;32m     65\u001b[0m \u001b[0;31m# Проверка устойчивости атома к бета-распаду\u001b[0m\u001b[0;34m\u001b[0m\u001b[0;34m\u001b[0m\u001b[0m\n\u001b[0;32m---> 66\u001b[0;31m \u001b[0mstability_U238\u001b[0m \u001b[0;34m=\u001b[0m \u001b[0matom_U238\u001b[0m\u001b[0;34m.\u001b[0m\u001b[0mbeta_decay_stability\u001b[0m\u001b[0;34m(\u001b[0m\u001b[0;34m)\u001b[0m\u001b[0;34m\u001b[0m\u001b[0;34m\u001b[0m\u001b[0m\n\u001b[0m\u001b[1;32m     67\u001b[0m \u001b[0mprint\u001b[0m\u001b[0;34m(\u001b[0m\u001b[0;34mf\"Устойчивость атома {atom_U238.name} к бета-распаду: {stability_U238}\"\u001b[0m\u001b[0;34m)\u001b[0m\u001b[0;34m\u001b[0m\u001b[0;34m\u001b[0m\u001b[0m\n\u001b[1;32m     68\u001b[0m \u001b[0;34m\u001b[0m\u001b[0m\n",
            "\u001b[0;32m<ipython-input-2-c8a53b154190>\u001b[0m in \u001b[0;36mbeta_decay_stability\u001b[0;34m(self)\u001b[0m\n\u001b[1;32m     29\u001b[0m \u001b[0;34m\u001b[0m\u001b[0m\n\u001b[1;32m     30\u001b[0m     \u001b[0;32mdef\u001b[0m \u001b[0mbeta_decay_stability\u001b[0m\u001b[0;34m(\u001b[0m\u001b[0mself\u001b[0m\u001b[0;34m)\u001b[0m\u001b[0;34m:\u001b[0m\u001b[0;34m\u001b[0m\u001b[0;34m\u001b[0m\u001b[0m\n\u001b[0;32m---> 31\u001b[0;31m         \u001b[0;32mif\u001b[0m \u001b[0mself\u001b[0m\u001b[0;34m.\u001b[0m\u001b[0mZ\u001b[0m \u001b[0;34m<\u001b[0m \u001b[0;36m0\u001b[0m \u001b[0;32mor\u001b[0m \u001b[0mself\u001b[0m\u001b[0;34m.\u001b[0m\u001b[0mN\u001b[0m \u001b[0;34m<\u001b[0m \u001b[0;36m0\u001b[0m \u001b[0;32mor\u001b[0m \u001b[0mself\u001b[0m\u001b[0;34m.\u001b[0m\u001b[0mZ\u001b[0m \u001b[0;34m>\u001b[0m \u001b[0mself\u001b[0m\u001b[0;34m.\u001b[0m\u001b[0mA\u001b[0m \u001b[0;32mor\u001b[0m \u001b[0mself\u001b[0m\u001b[0;34m.\u001b[0m\u001b[0mN\u001b[0m \u001b[0;34m>\u001b[0m \u001b[0mself\u001b[0m\u001b[0;34m.\u001b[0m\u001b[0mA\u001b[0m\u001b[0;34m:\u001b[0m\u001b[0;34m\u001b[0m\u001b[0;34m\u001b[0m\u001b[0m\n\u001b[0m\u001b[1;32m     32\u001b[0m             \u001b[0;32mreturn\u001b[0m \u001b[0;34m\"Invalid input\"\u001b[0m\u001b[0;34m\u001b[0m\u001b[0;34m\u001b[0m\u001b[0m\n\u001b[1;32m     33\u001b[0m \u001b[0;34m\u001b[0m\u001b[0m\n",
            "\u001b[0;31mAttributeError\u001b[0m: 'Atom' object has no attribute 'N'"
          ]
        }
      ],
      "source": [
        "import math\n",
        "\n",
        "class Atom:\n",
        "    def __init__(self, name, A, Z):\n",
        "        self.name = name\n",
        "        self.A = A\n",
        "        self.Z = Z\n",
        "\n",
        "    def binding_energy(self):\n",
        "        a1 = 15.67\n",
        "        a2 = 17.23\n",
        "        a3 = 0.75\n",
        "        a4 = 93.2\n",
        "        a5 = 0.0\n",
        "\n",
        "        BE = a1 * self.A - a2 * self.A**(2/3) - a3 * (self.Z**2) / (self.A**(1/3)) - a4 * (self.A - self.Z)**2 / self.A + a5 * self.A**(-1/2)\n",
        "        return BE\n",
        "\n",
        "    def mass(self):\n",
        "        Proton_mass = 1.007276\n",
        "        Neutron_mass = 1.008665\n",
        "        mass = self.Z * Proton_mass + (self.A - self.Z) * Neutron_mass\n",
        "        return mass\n",
        "\n",
        "    def radius(self):\n",
        "        r0 = 1.2  # Величина постоянной радиуса (произвольная)\n",
        "        radius = r0 * self.A**(1/3)\n",
        "        return radius\n",
        "\n",
        "    def beta_decay_stability(self):\n",
        "        if self.Z < 0 or self.N < 0 or self.Z > self.A or self.N > self.A:\n",
        "            return \"Invalid input\"\n",
        "\n",
        "        if self.Z == (self.A - 1) and self.N == (self.A + 1):\n",
        "            return \"Stable to beta decay\"\n",
        "        else:\n",
        "            return \"Unstable to beta decay\"\n",
        "\n",
        "    def can_divide_equally(self):\n",
        "        if self.A % 2 != 0:\n",
        "            return False\n",
        "\n",
        "        fragment_A = self.A / 2\n",
        "        if (fragment_A % 2 != 0) or ((self.A - fragment_A) % 2 != 0):\n",
        "            return False\n",
        "\n",
        "        return True\n",
        "\n",
        "\n",
        "# Пример использования класса для атома U-238\n",
        "atom_U238 = Atom(\"U-238\", 238, 92)\n",
        "\n",
        "# Вычисление удельной энергии связи\n",
        "binding_energy_U238 = atom_U238.binding_energy()\n",
        "print(f\"Удельная энергия связи для атома {atom_U238.name}: {binding_energy_U238} MeV\")\n",
        "\n",
        "# Вычисление массы атома\n",
        "mass_U238 = atom_U238.mass()\n",
        "print(f\"Масса атома {atom_U238.name}: {mass_U238} atomic mass units\")\n",
        "\n",
        "# Вычисление радиуса атома\n",
        "radius_U238 = atom_U238.radius()\n",
        "print(f\"Радиус атома {atom_U238.name}: {radius_U238} fm\")\n",
        "\n",
        "# Проверка устойчивости атома к бета-распаду\n",
        "stability_U238 = atom_U238.beta_decay_stability()\n",
        "print(f\"Устойчивость атома {atom_U238.name} к бета-распаду: {stability_U238}\")\n",
        "\n",
        "# Проверка возможности деления на 2 одинаковых четно-четных осколка\n",
        "can_divide_U238 = atom_U238.can_divide_equally()\n",
        "print(f\"Возможно ли деление атома {atom_U238.name} на 2 одинаковых четно-четных осколка: {can_divide_U238}\")"
      ]
    },
    {
      "cell_type": "code",
      "source": [
        "import math\n",
        "\n",
        "class Atom:\n",
        "    def __init__(self, name, A, Z, N):\n",
        "        self.name = name\n",
        "        self.A = A\n",
        "        self.Z = Z\n",
        "        self.N = N\n",
        "\n",
        "    def binding_energy(self):\n",
        "        a1 = 15.67\n",
        "        a2 = 17.23\n",
        "        a3 = 0.75\n",
        "        a4 = 93.2\n",
        "        a5 = 0.0\n",
        "\n",
        "        BE = a1 * self.A - a2 * self.A**(2/3) - a3 * (self.Z**2) / (self.A**(1/3)) - a4 * (self.A - self.Z)**2 / self.A + a5 * self.A**(-1/2)\n",
        "        return BE\n",
        "\n",
        "    def mass(self):\n",
        "        Proton_mass = 1.007276\n",
        "        Neutron_mass = 1.008665\n",
        "        mass = self.Z * Proton_mass + (self.A - self.Z) * Neutron_mass\n",
        "        return mass\n",
        "\n",
        "    def radius(self):\n",
        "        r0 = 1.2  # Величина постоянной радиуса (произвольная)\n",
        "        radius = r0 * self.A**(1/3)\n",
        "        return radius\n",
        "\n",
        "    def beta_decay_stability(self):\n",
        "        if self.Z < 0 or self.N < 0 or self.Z > self.A or self.N > self.A:\n",
        "            return \"Invalid input\"\n",
        "\n",
        "        if self.Z == (self.A - 1) and self.N == (self.A + 1):\n",
        "            return \"Stable to beta decay\"\n",
        "        else:\n",
        "            return \"Unstable to beta decay\"\n",
        "\n",
        "    def can_divide_equally(self):\n",
        "        if self.A % 2 != 0:\n",
        "            return False\n",
        "\n",
        "        fragment_A = self.A / 2\n",
        "        if (fragment_A % 2 != 0) or ((self.A - fragment_A) % 2 != 0):\n",
        "            return False\n",
        "\n",
        "        return True\n",
        "\n",
        "\n",
        "# Пример использования класса для атома U-238\n",
        "atom_U238 = Atom(\"U-238\", 238, 92, 146)\n",
        "\n",
        "# Вычисление удельной энергии связи\n",
        "binding_energy_U238 = atom_U238.binding_energy()\n",
        "print(f\"Удельная энергия связи для атома {atom_U238.name}: {binding_energy_U238} MeV\")\n",
        "\n",
        "# Вычисление массы атома\n",
        "mass_U238 = atom_U238.mass()\n",
        "print(f\"Масса атома {atom_U238.name}: {mass_U238} atomic mass units\")\n",
        "\n",
        "# Проверка устойчивости атома к бета-распаду\n",
        "stability_U238 = atom_U238.beta_decay_stability()\n",
        "print(f\"Устойчивость атома {atom_U238.name} к бета-распаду: {stability_U238}\")\n",
        "\n",
        "# Проверка возможности равномерного деления атома\n",
        "can_divide_equally_U238 = atom_U238.can_divide_equally()\n",
        "print(f\"Может ли атом {atom_U238.name} равномерно делиться: {can_divide_equally_U238}\")"
      ],
      "metadata": {
        "colab": {
          "base_uri": "https://localhost:8080/"
        },
        "id": "I2TFZOOjk-uc",
        "outputId": "d524192d-e383-45d3-ff41-26171c4a20cb"
      },
      "execution_count": null,
      "outputs": [
        {
          "output_type": "stream",
          "name": "stdout",
          "text": [
            "Удельная энергия связи для атома U-238: -6303.86842991109 MeV\n",
            "Масса атома U-238: 239.934482 atomic mass units\n",
            "Устойчивость атома U-238 к бета-распаду: Unstable to beta decay\n",
            "Может ли атом U-238 равномерно делиться: False\n"
          ]
        }
      ]
    }
  ]
}
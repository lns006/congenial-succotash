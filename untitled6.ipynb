{
  "nbformat": 4,
  "nbformat_minor": 0,
  "metadata": {
    "colab": {
      "provenance": [],
      "authorship_tag": "ABX9TyOaiXrjKq4LWlAidBjufva6",
      "include_colab_link": true
    },
    "kernelspec": {
      "name": "python3",
      "display_name": "Python 3"
    },
    "language_info": {
      "name": "python"
    }
  },
  "cells": [
    {
      "cell_type": "markdown",
      "metadata": {
        "id": "view-in-github",
        "colab_type": "text"
      },
      "source": [
        "<a href=\"https://colab.research.google.com/github/lns006/congenial-succotash/blob/main/untitled6.ipynb\" target=\"_parent\"><img src=\"https://colab.research.google.com/assets/colab-badge.svg\" alt=\"Open In Colab\"/></a>"
      ]
    },
    {
      "cell_type": "code",
      "execution_count": null,
      "metadata": {
        "colab": {
          "base_uri": "https://localhost:8080/"
        },
        "id": "RN12SswkVNSN",
        "outputId": "df6e4479-adca-4066-b2fb-93dfd476a1d2"
      },
      "outputs": [
        {
          "output_type": "stream",
          "name": "stdout",
          "text": [
            "Students:\n",
            "Max Brooks - 24 years old, from Spb\n",
            "Alice Smith - 22 years old, from Moscow\n",
            "John Doe - 25 years old, from New York\n",
            "\n",
            "Courses:\n",
            "Python - 21.07.21 to 21.08.21\n",
            "Java - 13.07.21 to 16.08.21\n",
            "\n",
            "Student 1 - Courses:\n",
            "Python\n",
            "Java\n"
          ]
        }
      ],
      "source": [
        "from peewee import *\n",
        "\n",
        "db = SqliteDatabase('database.db')\n",
        "\n",
        "class BaseModel(Model):\n",
        "    class Meta:\n",
        "        database = db\n",
        "\n",
        "class Student(BaseModel):\n",
        "    name = CharField()\n",
        "    surname = CharField()\n",
        "    age = IntegerField()\n",
        "    city = CharField()\n",
        "\n",
        "class Course(BaseModel):\n",
        "    name = CharField()\n",
        "    time_start = CharField()\n",
        "    time_end = CharField()\n",
        "\n",
        "class StudentCourse(BaseModel):\n",
        "    student = ForeignKeyField(Student)\n",
        "    course = ForeignKeyField(Course)\n",
        "\n",
        "def create_tables():\n",
        "    with db:\n",
        "        db.create_tables([Student, Course, StudentCourse])\n",
        "\n",
        "def add_student(name, surname, age, city):\n",
        "    student = Student(name=name, surname=surname, age=age, city=city)\n",
        "    student.save()\n",
        "\n",
        "def add_course(name, time_start, time_end):\n",
        "    course = Course(name=name, time_start=time_start, time_end=time_end)\n",
        "    course.save()\n",
        "\n",
        "def add_student_course(student_id, course_id):\n",
        "    student = Student.get_or_none(id=student_id)\n",
        "    course = Course.get_or_none(id=course_id)\n",
        "\n",
        "    if student and course:\n",
        "        student_course = StudentCourse(student=student, course=course)\n",
        "        student_course.save()\n",
        "\n",
        "def get_students():\n",
        "    return list(Student.select())\n",
        "\n",
        "def get_courses():\n",
        "    return list(Course.select())\n",
        "\n",
        "def get_student_courses(student_id):\n",
        "    student = Student.get_or_none(id=student_id)\n",
        "\n",
        "    if student:\n",
        "        return list(StudentCourse.select().where(StudentCourse.student == student))\n",
        "\n",
        "# Тестирование функционала\n",
        "if __name__ == '__main__':\n",
        "    create_tables()\n",
        "\n",
        "    add_student('Max', 'Brooks', 24, 'Spb')\n",
        "    add_student('Alice', 'Smith', 22, 'Moscow')\n",
        "    add_student('John', 'Doe', 25, 'New York')\n",
        "\n",
        "    add_course('Python', '21.07.21', '21.08.21')\n",
        "    add_course('Java', '13.07.21', '16.08.21')\n",
        "\n",
        "    add_student_course(1, 1)\n",
        "    add_student_course(1, 2)\n",
        "    add_student_course(2, 1)\n",
        "    add_student_course(3, 2)\n",
        "\n",
        "    students = get_students()\n",
        "    print('Students:')\n",
        "    for student in students:\n",
        "        print(f'{student.name} {student.surname} - {student.age} years old, from {student.city}')\n",
        "\n",
        "    courses = get_courses()\n",
        "    print('\\nCourses:')\n",
        "    for course in courses:\n",
        "        print(f'{course.name} - {course.time_start} to {course.time_end}')\n",
        "\n",
        "    student_courses = get_student_courses(1)\n",
        "    print(f'\\nStudent 1 - Courses:')\n",
        "    for student_course in student_courses:\n",
        "        print(student_course.course.name)"
      ]
    }
  ]
}